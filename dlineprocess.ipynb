{
 "cells": [
  {
   "cell_type": "code",
   "execution_count": 158,
   "metadata": {
    "collapsed": true
   },
   "outputs": [],
   "source": [
    "%matplotlib inline\n",
    "from delay_char import DlyLineDlog\n",
    "import sys\n",
    "import os\n",
    "import numpy as np\n",
    "import pandas as pd\n",
    "import matplotlib"
   ]
  },
  {
   "cell_type": "code",
   "execution_count": 159,
   "metadata": {
    "collapsed": false
   },
   "outputs": [],
   "source": [
    "def data2df(lot_num, temp):\n",
    "    dly = DlyLineDlog(os.path.join(\".\\\\data\\\\Delay_line\\\\\", lot_num, temp, \"summary_\" + temp + '.txt'), temp, lot_num)\n",
    "    df_lst = dly.gen_df_lst()\n",
    "    return  pd.DataFrame(df_lst)"
   ]
  },
  {
   "cell_type": "code",
   "execution_count": 160,
   "metadata": {
    "collapsed": false
   },
   "outputs": [],
   "source": [
    "lotnum = \"RC01927M\"\n",
    "temp = '25C'\n",
    "df = data2df(lotnum, temp)\n",
    "df = df.append(data2df(lotnum, '105C'))\n",
    "df = df.append(data2df(lotnum, '-5C'))\n",
    "lotnum = \"RC01928M\"\n",
    "df = df.append(data2df(lotnum, '25C'))\n",
    "df = df.append(data2df(lotnum, '105C'))\n",
    "df = df.append(data2df(lotnum, '-5C'))\n",
    "\n",
    "lotnum = \"RC01929M\"\n",
    "df = df.append(data2df(lotnum, '25C'))\n",
    "df = df.append(data2df(lotnum, '105C'))\n",
    "df = df.append(data2df(lotnum, '-5C'))"
   ]
  },
  {
   "cell_type": "code",
   "execution_count": 161,
   "metadata": {
    "collapsed": false
   },
   "outputs": [],
   "source": [
    "df.columns = ['Lot', 'Temp', 'Dev#', 'VDD', 'Test', 'Data0', 'Data1']"
   ]
  },
  {
   "cell_type": "code",
   "execution_count": 162,
   "metadata": {
    "collapsed": false
   },
   "outputs": [],
   "source": [
    "df = df[(df['Dev#'] != 9) | (df['Lot'] != 'RC01928M')]"
   ]
  },
  {
   "cell_type": "code",
   "execution_count": 163,
   "metadata": {
    "collapsed": false
   },
   "outputs": [],
   "source": [
    "# df[(df['Test'] == 'VOH') | (df['Test'] == 'VOL')]"
   ]
  },
  {
   "cell_type": "code",
   "execution_count": 164,
   "metadata": {
    "collapsed": true
   },
   "outputs": [],
   "source": [
    "df.loc[df.Test == 'Delay', 'Data1'] = df[df.Test == 'Delay'].Data1.astype(int)"
   ]
  },
  {
   "cell_type": "code",
   "execution_count": 165,
   "metadata": {
    "collapsed": false
   },
   "outputs": [],
   "source": [
    "# df_delay[\"Data1\"] = df_delay['Data1'].convert_objects(convert_numeric=True)"
   ]
  },
  {
   "cell_type": "code",
   "execution_count": 166,
   "metadata": {
    "collapsed": false
   },
   "outputs": [
    {
     "data": {
      "text/html": [
       "<div>\n",
       "<table border=\"1\" class=\"dataframe\">\n",
       "  <thead>\n",
       "    <tr style=\"text-align: right;\">\n",
       "      <th></th>\n",
       "      <th>Lot</th>\n",
       "      <th>Temp</th>\n",
       "      <th>Dev#</th>\n",
       "      <th>VDD</th>\n",
       "      <th>Test</th>\n",
       "      <th>Data0</th>\n",
       "      <th>Data1</th>\n",
       "    </tr>\n",
       "  </thead>\n",
       "  <tbody>\n",
       "    <tr>\n",
       "      <th>2160</th>\n",
       "      <td>RC01927M</td>\n",
       "      <td>-5C</td>\n",
       "      <td>2</td>\n",
       "      <td>3.7</td>\n",
       "      <td>IDD</td>\n",
       "      <td>5.507</td>\n",
       "      <td>STATIC</td>\n",
       "    </tr>\n",
       "    <tr>\n",
       "      <th>2161</th>\n",
       "      <td>RC01927M</td>\n",
       "      <td>-5C</td>\n",
       "      <td>2</td>\n",
       "      <td>3.7</td>\n",
       "      <td>IDD</td>\n",
       "      <td>5.559</td>\n",
       "      <td>DYNAMIC</td>\n",
       "    </tr>\n",
       "    <tr>\n",
       "      <th>2162</th>\n",
       "      <td>RC01927M</td>\n",
       "      <td>-5C</td>\n",
       "      <td>2</td>\n",
       "      <td>3.6</td>\n",
       "      <td>IDD</td>\n",
       "      <td>5.421</td>\n",
       "      <td>STATIC</td>\n",
       "    </tr>\n",
       "    <tr>\n",
       "      <th>2163</th>\n",
       "      <td>RC01927M</td>\n",
       "      <td>-5C</td>\n",
       "      <td>2</td>\n",
       "      <td>3.6</td>\n",
       "      <td>IDD</td>\n",
       "      <td>5.431</td>\n",
       "      <td>DYNAMIC</td>\n",
       "    </tr>\n",
       "    <tr>\n",
       "      <th>2164</th>\n",
       "      <td>RC01927M</td>\n",
       "      <td>-5C</td>\n",
       "      <td>2</td>\n",
       "      <td>3.5</td>\n",
       "      <td>IDD</td>\n",
       "      <td>5.380</td>\n",
       "      <td>STATIC</td>\n",
       "    </tr>\n",
       "  </tbody>\n",
       "</table>\n",
       "</div>"
      ],
      "text/plain": [
       "           Lot Temp  Dev#  VDD Test  Data0    Data1\n",
       "2160  RC01927M  -5C     2  3.7  IDD  5.507   STATIC\n",
       "2161  RC01927M  -5C     2  3.7  IDD  5.559  DYNAMIC\n",
       "2162  RC01927M  -5C     2  3.6  IDD  5.421   STATIC\n",
       "2163  RC01927M  -5C     2  3.6  IDD  5.431  DYNAMIC\n",
       "2164  RC01927M  -5C     2  3.5  IDD  5.380   STATIC"
      ]
     },
     "execution_count": 166,
     "metadata": {},
     "output_type": "execute_result"
    }
   ],
   "source": [
    "df[(df['Test'] == 'IDD') & (df['Data0'] > 4.5)].head(5)"
   ]
  },
  {
   "cell_type": "code",
   "execution_count": 167,
   "metadata": {
    "collapsed": false
   },
   "outputs": [],
   "source": [
    "df.loc[df.Test == 'Delay', 'Dly'] = df[df.Test == 'Delay'].apply(lambda x: (x['Data0'] * 1000 - int(x['Data1'])) / int(x['Data1']) * 100, axis=1)"
   ]
  },
  {
   "cell_type": "code",
   "execution_count": 168,
   "metadata": {
    "collapsed": true
   },
   "outputs": [],
   "source": [
    "df_dly = df[df.Test == 'Delay']"
   ]
  },
  {
   "cell_type": "code",
   "execution_count": 180,
   "metadata": {
    "collapsed": false
   },
   "outputs": [
    {
     "data": {
      "text/plain": [
       "count    86400.000000\n",
       "mean         0.962419\n",
       "std          1.339775\n",
       "min         -3.500000\n",
       "25%          0.000000\n",
       "50%          1.000000\n",
       "75%          2.000000\n",
       "max          4.500000\n",
       "Name: Dly, dtype: float64"
      ]
     },
     "execution_count": 180,
     "metadata": {},
     "output_type": "execute_result"
    }
   ],
   "source": [
    "df_dly[df_dly['Data1'] < 8000]['Dly'].describe()"
   ]
  },
  {
   "cell_type": "code",
   "execution_count": 178,
   "metadata": {
    "collapsed": false
   },
   "outputs": [
    {
     "data": {
      "text/plain": [
       "<matplotlib.axes._subplots.AxesSubplot at 0x23696102a90>"
      ]
     },
     "execution_count": 178,
     "metadata": {},
     "output_type": "execute_result"
    },
    {
     "data": {
      "image/png": "[encoded data removed]",
      "text/plain": [
       "<matplotlib.figure.Figure at 0x23695d10ac8>"
      ]
     },
     "metadata": {},
     "output_type": "display_data"
    }
   ],
   "source": [
    "df_dly[df_dly['Data1'] > 8000]['Dly'].plot(kind='hist', alpha=0.5)"
   ]
  },
  {
   "cell_type": "code",
   "execution_count": 194,
   "metadata": {
    "collapsed": false
   },
   "outputs": [
    {
     "data": {
      "text/plain": [
       "count    131760.000000\n",
       "mean          0.528639\n",
       "std           0.741932\n",
       "min          -2.000000\n",
       "25%           0.000000\n",
       "50%           0.597938\n",
       "75%           1.000000\n",
       "max           3.000000\n",
       "Name: Dly, dtype: float64"
      ]
     },
     "execution_count": 194,
     "metadata": {},
     "output_type": "execute_result"
    }
   ],
   "source": [
    "df_dly[df_dly['Data1'] >= 8000].Dly.describe()"
   ]
  },
  {
   "cell_type": "code",
   "execution_count": 198,
   "metadata": {
    "collapsed": false
   },
   "outputs": [
    {
     "data": {
      "text/html": [
       "<div>\n",
       "<table border=\"1\" class=\"dataframe\">\n",
       "  <thead>\n",
       "    <tr style=\"text-align: right;\">\n",
       "      <th></th>\n",
       "      <th>Lot</th>\n",
       "      <th>Temp</th>\n",
       "      <th>Dev#</th>\n",
       "      <th>VDD</th>\n",
       "      <th>Test</th>\n",
       "      <th>Data0</th>\n",
       "      <th>Data1</th>\n",
       "      <th>Dly</th>\n",
       "    </tr>\n",
       "  </thead>\n",
       "  <tbody>\n",
       "    <tr>\n",
       "      <th>9128</th>\n",
       "      <td>RC01927M</td>\n",
       "      <td>25C</td>\n",
       "      <td>9</td>\n",
       "      <td>2.9</td>\n",
       "      <td>Delay</td>\n",
       "      <td>8.04</td>\n",
       "      <td>8000</td>\n",
       "      <td>0.5</td>\n",
       "    </tr>\n",
       "    <tr>\n",
       "      <th>9128</th>\n",
       "      <td>RC01927M</td>\n",
       "      <td>105C</td>\n",
       "      <td>10</td>\n",
       "      <td>2.9</td>\n",
       "      <td>Delay</td>\n",
       "      <td>8.08</td>\n",
       "      <td>8000</td>\n",
       "      <td>1.0</td>\n",
       "    </tr>\n",
       "    <tr>\n",
       "      <th>9128</th>\n",
       "      <td>RC01927M</td>\n",
       "      <td>-5C</td>\n",
       "      <td>11</td>\n",
       "      <td>2.9</td>\n",
       "      <td>Delay</td>\n",
       "      <td>8.08</td>\n",
       "      <td>8000</td>\n",
       "      <td>1.0</td>\n",
       "    </tr>\n",
       "    <tr>\n",
       "      <th>9128</th>\n",
       "      <td>RC01929M</td>\n",
       "      <td>25C</td>\n",
       "      <td>9</td>\n",
       "      <td>2.9</td>\n",
       "      <td>Delay</td>\n",
       "      <td>8.16</td>\n",
       "      <td>8000</td>\n",
       "      <td>2.0</td>\n",
       "    </tr>\n",
       "    <tr>\n",
       "      <th>9128</th>\n",
       "      <td>RC01929M</td>\n",
       "      <td>105C</td>\n",
       "      <td>9</td>\n",
       "      <td>2.9</td>\n",
       "      <td>Delay</td>\n",
       "      <td>8.24</td>\n",
       "      <td>8000</td>\n",
       "      <td>3.0</td>\n",
       "    </tr>\n",
       "    <tr>\n",
       "      <th>9128</th>\n",
       "      <td>RC01929M</td>\n",
       "      <td>-5C</td>\n",
       "      <td>9</td>\n",
       "      <td>2.9</td>\n",
       "      <td>Delay</td>\n",
       "      <td>8.16</td>\n",
       "      <td>8000</td>\n",
       "      <td>2.0</td>\n",
       "    </tr>\n",
       "  </tbody>\n",
       "</table>\n",
       "</div>"
      ],
      "text/plain": [
       "           Lot  Temp  Dev#  VDD   Test  Data0 Data1  Dly\n",
       "9128  RC01927M   25C     9  2.9  Delay   8.04  8000  0.5\n",
       "9128  RC01927M  105C    10  2.9  Delay   8.08  8000  1.0\n",
       "9128  RC01927M   -5C    11  2.9  Delay   8.08  8000  1.0\n",
       "9128  RC01929M   25C     9  2.9  Delay   8.16  8000  2.0\n",
       "9128  RC01929M  105C     9  2.9  Delay   8.24  8000  3.0\n",
       "9128  RC01929M   -5C     9  2.9  Delay   8.16  8000  2.0"
      ]
     },
     "execution_count": 198,
     "metadata": {},
     "output_type": "execute_result"
    }
   ],
   "source": [
    "df_dly[df_dly.index == [df_dly[(df_dly.Data1 >= 8000)].Dly.argmax()]]"
   ]
  },
  {
   "cell_type": "code",
   "execution_count": 199,
   "metadata": {
    "collapsed": false
   },
   "outputs": [
    {
     "data": {
      "text/html": [
       "<div>\n",
       "<table border=\"1\" class=\"dataframe\">\n",
       "  <thead>\n",
       "    <tr style=\"text-align: right;\">\n",
       "      <th></th>\n",
       "      <th>Lot</th>\n",
       "      <th>Temp</th>\n",
       "      <th>Dev#</th>\n",
       "      <th>VDD</th>\n",
       "      <th>Test</th>\n",
       "      <th>Data0</th>\n",
       "      <th>Data1</th>\n",
       "      <th>Dly</th>\n",
       "    </tr>\n",
       "  </thead>\n",
       "  <tbody>\n",
       "    <tr>\n",
       "      <th>14177</th>\n",
       "      <td>RC01927M</td>\n",
       "      <td>25C</td>\n",
       "      <td>14</td>\n",
       "      <td>3.0</td>\n",
       "      <td>Delay</td>\n",
       "      <td>2.00</td>\n",
       "      <td>2000</td>\n",
       "      <td>0.0</td>\n",
       "    </tr>\n",
       "    <tr>\n",
       "      <th>14177</th>\n",
       "      <td>RC01927M</td>\n",
       "      <td>105C</td>\n",
       "      <td>15</td>\n",
       "      <td>3.0</td>\n",
       "      <td>Delay</td>\n",
       "      <td>2.02</td>\n",
       "      <td>2000</td>\n",
       "      <td>1.0</td>\n",
       "    </tr>\n",
       "    <tr>\n",
       "      <th>14177</th>\n",
       "      <td>RC01927M</td>\n",
       "      <td>-5C</td>\n",
       "      <td>16</td>\n",
       "      <td>3.0</td>\n",
       "      <td>Delay</td>\n",
       "      <td>2.00</td>\n",
       "      <td>2000</td>\n",
       "      <td>0.0</td>\n",
       "    </tr>\n",
       "    <tr>\n",
       "      <th>14177</th>\n",
       "      <td>RC01928M</td>\n",
       "      <td>25C</td>\n",
       "      <td>16</td>\n",
       "      <td>3.0</td>\n",
       "      <td>Delay</td>\n",
       "      <td>2.07</td>\n",
       "      <td>2000</td>\n",
       "      <td>3.5</td>\n",
       "    </tr>\n",
       "    <tr>\n",
       "      <th>14177</th>\n",
       "      <td>RC01928M</td>\n",
       "      <td>105C</td>\n",
       "      <td>14</td>\n",
       "      <td>3.0</td>\n",
       "      <td>Delay</td>\n",
       "      <td>2.09</td>\n",
       "      <td>2000</td>\n",
       "      <td>4.5</td>\n",
       "    </tr>\n",
       "    <tr>\n",
       "      <th>14177</th>\n",
       "      <td>RC01928M</td>\n",
       "      <td>-5C</td>\n",
       "      <td>14</td>\n",
       "      <td>3.0</td>\n",
       "      <td>Delay</td>\n",
       "      <td>2.08</td>\n",
       "      <td>2000</td>\n",
       "      <td>4.0</td>\n",
       "    </tr>\n",
       "    <tr>\n",
       "      <th>14177</th>\n",
       "      <td>RC01929M</td>\n",
       "      <td>25C</td>\n",
       "      <td>14</td>\n",
       "      <td>3.0</td>\n",
       "      <td>Delay</td>\n",
       "      <td>2.01</td>\n",
       "      <td>2000</td>\n",
       "      <td>0.5</td>\n",
       "    </tr>\n",
       "    <tr>\n",
       "      <th>14177</th>\n",
       "      <td>RC01929M</td>\n",
       "      <td>105C</td>\n",
       "      <td>14</td>\n",
       "      <td>3.0</td>\n",
       "      <td>Delay</td>\n",
       "      <td>2.01</td>\n",
       "      <td>2000</td>\n",
       "      <td>0.5</td>\n",
       "    </tr>\n",
       "    <tr>\n",
       "      <th>14177</th>\n",
       "      <td>RC01929M</td>\n",
       "      <td>-5C</td>\n",
       "      <td>14</td>\n",
       "      <td>3.0</td>\n",
       "      <td>Delay</td>\n",
       "      <td>2.01</td>\n",
       "      <td>2000</td>\n",
       "      <td>0.5</td>\n",
       "    </tr>\n",
       "  </tbody>\n",
       "</table>\n",
       "</div>"
      ],
      "text/plain": [
       "            Lot  Temp  Dev#  VDD   Test  Data0 Data1  Dly\n",
       "14177  RC01927M   25C    14  3.0  Delay   2.00  2000  0.0\n",
       "14177  RC01927M  105C    15  3.0  Delay   2.02  2000  1.0\n",
       "14177  RC01927M   -5C    16  3.0  Delay   2.00  2000  0.0\n",
       "14177  RC01928M   25C    16  3.0  Delay   2.07  2000  3.5\n",
       "14177  RC01928M  105C    14  3.0  Delay   2.09  2000  4.5\n",
       "14177  RC01928M   -5C    14  3.0  Delay   2.08  2000  4.0\n",
       "14177  RC01929M   25C    14  3.0  Delay   2.01  2000  0.5\n",
       "14177  RC01929M  105C    14  3.0  Delay   2.01  2000  0.5\n",
       "14177  RC01929M   -5C    14  3.0  Delay   2.01  2000  0.5"
      ]
     },
     "execution_count": 199,
     "metadata": {},
     "output_type": "execute_result"
    }
   ],
   "source": [
    "df_dly[df_dly.index == [df_dly[(df_dly.Data1 < 8000)].Dly.argmax()]]"
   ]
  },
  {
   "cell_type": "code",
   "execution_count": null,
   "metadata": {
    "collapsed": true
   },
   "outputs": [],
   "source": []
  }
 ],
 "metadata": {
  "kernelspec": {
   "display_name": "Python 3",
   "language": "python",
   "name": "python3"
  },
  "language_info": {
   "codemirror_mode": {
    "name": "ipython",
    "version": 3
   },
   "file_extension": ".py",
   "mimetype": "text/x-python",
   "name": "python",
   "nbconvert_exporter": "python",
   "pygments_lexer": "ipython3",
   "version": "3.5.1"
  }
 },
 "nbformat": 4,
 "nbformat_minor": 0
}
