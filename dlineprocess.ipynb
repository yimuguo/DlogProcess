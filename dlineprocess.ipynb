{
 "cells": [
  {
   "cell_type": "code",
   "execution_count": 1,
   "metadata": {
    "collapsed": true
   },
   "outputs": [],
   "source": [
    "from delay_char import DlyLineDlog\n",
    "import sys\n",
    "import os\n",
    "import pandas as pd"
   ]
  },
  {
   "cell_type": "code",
   "execution_count": 2,
   "metadata": {
    "collapsed": false
   },
   "outputs": [],
   "source": [
    "lot_num = \"RC01927M\"\n",
    "temp = '25C'\n",
    "dly = DlyLineDlog(os.path.join(\".\\\\data\\\\Delay_line\\\\\", lot_num, temp, \"summary_\" + temp + '.txt'), temp, lot_num)\n",
    "df_lst = dly.gen_df_lst()"
   ]
  },
  {
   "cell_type": "code",
   "execution_count": 3,
   "metadata": {
    "collapsed": true
   },
   "outputs": [],
   "source": [
    "df = pd.DataFrame(df_lst)"
   ]
  },
  {
   "cell_type": "code",
   "execution_count": 4,
   "metadata": {
    "collapsed": false
   },
   "outputs": [],
   "source": [
    "df.columns = ['LOT_Num', 'Temp', 'Dev#', 'VDD', 'Test_Instance', 'Data0', 'Data1']"
   ]
  },
  {
   "cell_type": "code",
   "execution_count": 15,
   "metadata": {
    "collapsed": false
   },
   "outputs": [
    {
     "data": {
      "text/html": [
       "<div>\n",
       "<table border=\"1\" class=\"dataframe\">\n",
       "  <thead>\n",
       "    <tr style=\"text-align: right;\">\n",
       "      <th></th>\n",
       "      <th>LOT_Num</th>\n",
       "      <th>Temp</th>\n",
       "      <th>Dev#</th>\n",
       "      <th>VDD</th>\n",
       "      <th>Test_Instance</th>\n",
       "      <th>Data0</th>\n",
       "      <th>Data1</th>\n",
       "    </tr>\n",
       "  </thead>\n",
       "  <tbody>\n",
       "  </tbody>\n",
       "</table>\n",
       "</div>"
      ],
      "text/plain": [
       "Empty DataFrame\n",
       "Columns: [LOT_Num, Temp, Dev#, VDD, Test_Instance, Data0, Data1]\n",
       "Index: []"
      ]
     },
     "execution_count": 15,
     "metadata": {},
     "output_type": "execute_result"
    }
   ],
   "source": [
    "df[(df['Test_Instance'] == 'VOH') & (df['Dev#'] == 25)]"
   ]
  },
  {
   "cell_type": "code",
   "execution_count": 12,
   "metadata": {
    "collapsed": false
   },
   "outputs": [
    {
     "data": {
      "text/plain": [
       "<bound method NDFrame.tail of         LOT_Num Temp  Dev#     VDD Test_Instance   Data0 Data1\n",
       "0      RC01927M  25C     1     3.7         Delay  1.9900  2000\n",
       "1      RC01927M  25C     1     3.6         Delay  1.9900  2000\n",
       "2      RC01927M  25C     1     3.5         Delay  1.9900  2000\n",
       "3      RC01927M  25C     1     3.4         Delay  1.9900  2000\n",
       "4      RC01927M  25C     1     3.3         Delay  1.9900  2000\n",
       "5      RC01927M  25C     1     3.2         Delay  1.9900  2000\n",
       "6      RC01927M  25C     1     3.1         Delay  1.9900  2000\n",
       "7      RC01927M  25C     1     3.0         Delay  1.9900  2000\n",
       "8      RC01927M  25C     1     2.9         Delay  1.9900  2000\n",
       "9      RC01927M  25C     1     2.8         Delay  1.9900  2000\n",
       "10     RC01927M  25C     1     3.7         Delay  2.0895  2100\n",
       "11     RC01927M  25C     1     3.6         Delay  2.0790  2100\n",
       "12     RC01927M  25C     1     3.5         Delay  2.0790  2100\n",
       "13     RC01927M  25C     1     3.4         Delay  2.0895  2100\n",
       "14     RC01927M  25C     1     3.3         Delay  2.0790  2100\n",
       "15     RC01927M  25C     1     3.2         Delay  2.0895  2100\n",
       "16     RC01927M  25C     1     3.1         Delay  2.1000  2100\n",
       "17     RC01927M  25C     1     3.0         Delay  2.0895  2100\n",
       "18     RC01927M  25C     1     2.9         Delay  2.0895  2100\n",
       "19     RC01927M  25C     1     2.8         Delay  2.1000  2100\n",
       "20     RC01927M  25C     1     3.7         Delay  2.2000  2200\n",
       "21     RC01927M  25C     1     3.6         Delay  2.1780  2200\n",
       "22     RC01927M  25C     1     3.5         Delay  2.2000  2200\n",
       "23     RC01927M  25C     1     3.4         Delay  2.1780  2200\n",
       "24     RC01927M  25C     1     3.3         Delay  2.1780  2200\n",
       "25     RC01927M  25C     1     3.2         Delay  2.2110  2200\n",
       "26     RC01927M  25C     1     3.1         Delay  2.2000  2200\n",
       "27     RC01927M  25C     1     3.0         Delay  2.2000  2200\n",
       "28     RC01927M  25C     1     2.9         Delay  2.2110  2200\n",
       "29     RC01927M  25C     1     2.8         Delay  2.2000  2200\n",
       "...         ...  ...   ...     ...           ...     ...   ...\n",
       "26220  RC01927M  25C    25     3.7           VIH  2.1500  None\n",
       "26221  RC01927M  25C    25     3.6           VIH  2.0500  None\n",
       "26222  RC01927M  25C    25     3.5           VIH  2.0000  None\n",
       "26223  RC01927M  25C    25     3.4           VIH  1.9500  None\n",
       "26224  RC01927M  25C    25     3.3           VIH  1.9000  None\n",
       "26225  RC01927M  25C    25     3.2           VIH  1.8500  None\n",
       "26226  RC01927M  25C    25     3.1           VIH  1.8000  None\n",
       "26227  RC01927M  25C    25     3.0           VIH  1.7500  None\n",
       "26228  RC01927M  25C    25     2.9           VIH  1.7000  None\n",
       "26229  RC01927M  25C    25     2.8           VIH  1.6500  None\n",
       "26230  RC01927M  25C    25  VCC(V)           VOL  0.2480  10mA\n",
       "26231  RC01927M  25C    25  VCC(V)           VOL  0.0270   1mA\n",
       "26232  RC01927M  25C    25  VCC(V)           VOL  0.2490  10mA\n",
       "26233  RC01927M  25C    25  VCC(V)           VOL  0.0270   1mA\n",
       "26234  RC01927M  25C    25  VCC(V)           VOL  0.2490  10mA\n",
       "26235  RC01927M  25C    25  VCC(V)           VOL  0.0270   1mA\n",
       "26236  RC01927M  25C    25  VCC(V)           VOL  0.2500  10mA\n",
       "26237  RC01927M  25C    25  VCC(V)           VOL  0.0270   1mA\n",
       "26238  RC01927M  25C    25  VCC(V)           VOL  0.2500  10mA\n",
       "26239  RC01927M  25C    25  VCC(V)           VOL  0.0270   1mA\n",
       "26240  RC01927M  25C    25  VCC(V)           VOL  0.2510  10mA\n",
       "26241  RC01927M  25C    25  VCC(V)           VOL  0.0270   1mA\n",
       "26242  RC01927M  25C    25  VCC(V)           VOL  0.2520  10mA\n",
       "26243  RC01927M  25C    25  VCC(V)           VOL  0.0270   1mA\n",
       "26244  RC01927M  25C    25  VCC(V)           VOL  0.2540  10mA\n",
       "26245  RC01927M  25C    25  VCC(V)           VOL  0.0270   1mA\n",
       "26246  RC01927M  25C    25  VCC(V)           VOL  0.2550  10mA\n",
       "26247  RC01927M  25C    25  VCC(V)           VOL  0.0270   1mA\n",
       "26248  RC01927M  25C    25  VCC(V)           VOL  0.2560  10mA\n",
       "26249  RC01927M  25C    25  VCC(V)           VOL  0.0280   1mA\n",
       "\n",
       "[26250 rows x 7 columns]>"
      ]
     },
     "execution_count": 12,
     "metadata": {},
     "output_type": "execute_result"
    }
   ],
   "source": [
    "df.tail"
   ]
  },
  {
   "cell_type": "code",
   "execution_count": null,
   "metadata": {
    "collapsed": true
   },
   "outputs": [],
   "source": []
  }
 ],
 "metadata": {
  "kernelspec": {
   "display_name": "Python 3",
   "language": "python",
   "name": "python3"
  },
  "language_info": {
   "codemirror_mode": {
    "name": "ipython",
    "version": 3
   },
   "file_extension": ".py",
   "mimetype": "text/x-python",
   "name": "python",
   "nbconvert_exporter": "python",
   "pygments_lexer": "ipython3",
   "version": "3.5.1"
  }
 },
 "nbformat": 4,
 "nbformat_minor": 0
}
