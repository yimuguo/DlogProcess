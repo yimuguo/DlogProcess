{
 "cells": [
  {
   "cell_type": "code",
   "execution_count": 459,
   "metadata": {
    "collapsed": true
   },
   "outputs": [],
   "source": [
    "%matplotlib inline\n",
    "from delay_char import DlyLineDlog\n",
    "import sys\n",
    "import os\n",
    "import numpy as np\n",
    "import pandas as pd\n",
    "import matplotlib\n",
    "from collections import Counter"
   ]
  },
  {
   "cell_type": "code",
   "execution_count": 460,
   "metadata": {
    "collapsed": false
   },
   "outputs": [],
   "source": [
    "def data2df(lot_num, temp):\n",
    "    dly = DlyLineDlog(os.path.join(\".\\\\data\\\\Delay_line\\\\\", lot_num, temp, \"summary_\" + temp + '.txt'), temp, lot_num)\n",
    "    df_lst = dly.gen_df_lst()\n",
    "    return pd.DataFrame(df_lst)\n",
    "\n",
    "\n",
    "\n",
    "lotnum = \"RC01927M\"\n",
    "temp = '25C'\n",
    "df = data2df(lotnum, temp)\n",
    "df = df.append(data2df(lotnum, '105C'))\n",
    "df = df.append(data2df(lotnum, '-5C'))\n",
    "lotnum = \"RC01928M\"\n",
    "df = df.append(data2df(lotnum, '25C'))\n",
    "df = df.append(data2df(lotnum, '105C'))\n",
    "df = df.append(data2df(lotnum, '-5C'))\n",
    "\n",
    "lotnum = \"RC01929M\"\n",
    "df = df.append(data2df(lotnum, '25C'))\n",
    "df = df.append(data2df(lotnum, '105C'))\n",
    "df = df.append(data2df(lotnum, '-5C'))\n",
    "\n",
    "df.columns = ['Lot', 'Temp', 'Dev#', 'VDD', 'Test', 'Data0', 'Data1']"
   ]
  },
  {
   "cell_type": "code",
   "execution_count": 461,
   "metadata": {
    "collapsed": false
   },
   "outputs": [],
   "source": [
    "# def slice_unit(dev_num, lot_num, temp='all', data_frame=df):\n",
    "#     if isinstance(dev_num, list):\n",
    "#         for x in dev_num:\n",
    "#             if temp == 'all':\n",
    "#                 data_sliced = data_frame.loc[(data_frame.Lot != lot_num) | (data_frame['Dev#'] != x)]\n",
    "#             else:\n",
    "#                 data_sliced = data_frame[(data_frame.Lot != lot_num) | (data_frame.Temp != temp) | (data_frame['Dev#'] != x)]\n",
    "#     else:\n",
    "#         if temp == 'all':\n",
    "#             data_sliced = data_frame.loc[(data_frame.Lot != lot_num) | (data_frame['Dev#'] != dev_num)]\n",
    "#         else:\n",
    "#             data_sliced = data_frame[(data_frame.Lot != lot_num) | (data_frame.Temp != temp) | (data_frame['Dev#'] != dev_num)]\n",
    "#             print(data_frame[(data_frame.Lot == lot_num) & (data_frame.Temp == temp) & (data_frame['Dev#'] == dev_num)])\n",
    "#             print(data_sliced[(data_frame.Lot == lot_num) & (data_frame.Temp == temp) & (data_frame['Dev#'] == dev_num)])\n",
    "#     del data_frame\n",
    "#     return data_sliced"
   ]
  },
  {
   "cell_type": "code",
   "execution_count": 462,
   "metadata": {
    "collapsed": false
   },
   "outputs": [],
   "source": [
    "df = df[(df.Lot != 'RC01928M') | (df['Dev#'] != 20) | (df.Temp != '25C')]\n",
    "df = df[(df.Lot != 'RC01928M') | (df['Dev#'] != 26) | (df.Temp != '25C')]\n",
    "df = df[(df.Lot != 'RC01928M') | (df['Dev#'] != 21) | (df.Temp != '105C')]\n",
    "\n",
    "df = df[(df.Lot != 'RC01927M') | (df['Dev#'] != 4) | (df.Temp != '25C')]\n",
    "df = df[(df.Lot != 'RC01927M') | (df['Dev#'] != 3) | (df.Temp != '25C')]\n",
    "df = df[(df.Lot != 'RC01927M') | (df['Dev#'] != 17) | (df.Temp != '25C')]\n",
    "df = df[(df.Lot != 'RC01927M') | (df['Dev#'] != 3) | (df.Temp != '105C')]\n",
    "df = df[(df.Lot != 'RC01927M') | (df['Dev#'] != 16) | (df.Temp != '105C')]\n",
    "df = df[(df.Lot != 'RC01927M') | (df['Dev#'] != 4) | (df.Temp != '-5C')]\n",
    "df = df[(df.Lot != 'RC01927M') | (df['Dev#'] != 5) | (df.Temp != '-5C')]\n",
    "df = df[(df.Lot != 'RC01927M') | (df['Dev#'] != 6) | (df.Temp != '-5C')]\n",
    "df = df[(df.Lot != 'RC01927M') | (df['Dev#'] != 19) | (df.Temp != '-5C')]\n",
    "\n",
    "df = df[(df.Lot != 'RC01929M') | (df['Dev#'] != 20) | (df.Temp != '25C')]\n",
    "df = df[(df.Lot != 'RC01929M') | (df['Dev#'] != 21) | (df.Temp != '25C')]\n",
    "df = df[(df.Lot != 'RC01929M') | (df['Dev#'] != 25) | (df.Temp != '25C')]\n",
    "df = df[(df.Lot != 'RC01929M') | (df['Dev#'] != 20) | (df.Temp != '105C')]\n",
    "df = df[(df.Lot != 'RC01929M') | (df['Dev#'] != 21) | (df.Temp != '105C')]\n",
    "df = df[(df.Lot != 'RC01929M') | (df['Dev#'] != 25) | (df.Temp != '105C')]\n",
    "\n",
    "df = df[(df.Lot != 'RC01928M') | (df['Dev#'] != 9)]\n",
    "df = df[(df.Lot != 'RC01929M') | (df['Dev#'] != 9)]\n",
    "# df = df[(df.Lot != 'RC01929M') | (df['Dev#'] != 17)]\n",
    "df = df[(df.Lot != 'RC01928M') | (df['Dev#'] != 14)]\n",
    "df = df[(df.Lot != 'RC01927M') | (df['Dev#'] != 2)]\n",
    "df = df[(df.Lot != 'RC01928M') | (df['Dev#'] != 15)]\n",
    "df = df[(df.Lot != 'RC01929M') | (df['Dev#'] != 24)]\n",
    "\n",
    "\n",
    "# slice_unit([20, 26], 'RC01928M', '25C')\n",
    "# df = slice_unit(21, 'RC01928M', '105C')\n",
    "# df = slice_unit(4, 'RC01927M', '25C')\n",
    "# df = slice_unit([20, 21, 25], 'RC01929M', '25C')\n",
    "# df = slice_unit([20, 21, 25], 'RC01929M', '105C')\n",
    "# df = slice_unit(9, 'RC01928M')"
   ]
  },
  {
   "cell_type": "code",
   "execution_count": 463,
   "metadata": {
    "collapsed": false
   },
   "outputs": [],
   "source": [
    "def confirm_units(lot_num):\n",
    "    units = len(Counter(df[(df.Lot == lot_num) & (df.Temp == '25C')]['Dev#']).keys())\n",
    "    if ((units == len(Counter(df[(df.Lot == lot_num) & (df.Temp == '105C')]['Dev#']).keys())) and \n",
    "        (units == len(Counter(df[(df.Lot == lot_num) & (df.Temp == '-5C')]['Dev#']).keys()))):\n",
    "        print(\"Lot \" + lot_num + \" has \" + str(units))\n",
    "    else:\n",
    "        print(\"Units Number not Match\")"
   ]
  },
  {
   "cell_type": "code",
   "execution_count": 464,
   "metadata": {
    "collapsed": false
   },
   "outputs": [
    {
     "name": "stdout",
     "output_type": "stream",
     "text": [
      "Lot RC01927M has 21\n"
     ]
    }
   ],
   "source": [
    "confirm_units('RC01927M')"
   ]
  },
  {
   "cell_type": "code",
   "execution_count": 465,
   "metadata": {
    "collapsed": false
   },
   "outputs": [
    {
     "name": "stdout",
     "output_type": "stream",
     "text": [
      "Lot RC01928M has 20\n"
     ]
    }
   ],
   "source": [
    "confirm_units('RC01928M')"
   ]
  },
  {
   "cell_type": "code",
   "execution_count": 466,
   "metadata": {
    "collapsed": false
   },
   "outputs": [
    {
     "name": "stdout",
     "output_type": "stream",
     "text": [
      "Lot RC01929M has 20\n"
     ]
    }
   ],
   "source": [
    "confirm_units('RC01929M')"
   ]
  },
  {
   "cell_type": "code",
   "execution_count": 467,
   "metadata": {
    "collapsed": true
   },
   "outputs": [],
   "source": [
    "df.loc[df.Test == 'Delay', 'Data1'] = df[df.Test == 'Delay'].Data1.astype(int)"
   ]
  },
  {
   "cell_type": "code",
   "execution_count": 469,
   "metadata": {
    "collapsed": false
   },
   "outputs": [
    {
     "data": {
      "text/plain": [
       "count    1830.000000\n",
       "mean        3.822418\n",
       "std         0.158090\n",
       "min         3.452000\n",
       "25%         3.704000\n",
       "50%         3.812000\n",
       "75%         3.938000\n",
       "max         4.239000\n",
       "Name: Data0, dtype: float64"
      ]
     },
     "execution_count": 469,
     "metadata": {},
     "output_type": "execute_result"
    }
   ],
   "source": [
    "df[(df.Test == 'IDD') & (df.Data1 == 'STATIC')].Data0.describe()"
   ]
  },
  {
   "cell_type": "code",
   "execution_count": 470,
   "metadata": {
    "collapsed": false
   },
   "outputs": [
    {
     "data": {
      "text/plain": [
       "<matplotlib.text.Text at 0x288e5281400>"
      ]
     },
     "execution_count": 470,
     "metadata": {},
     "output_type": "execute_result"
    },
    {
     "data": {
      "image/png": "[encoded data removed]",
      "text/plain": [
       "<matplotlib.figure.Figure at 0x288d6f4cbe0>"
      ]
     },
     "metadata": {},
     "output_type": "display_data"
    }
   ],
   "source": [
    "plt_idd_stat = df[(df.Test == 'IDD') & (df.Data1 == 'STATIC')].Data0.plot(kind='hist', alpha=0.5, title='IDD(mA) TypSpec: 5mA')\n",
    "plt_idd_stat.set_xlabel(\"IDD Static\")\n",
    "plt_idd_stat.set_ylabel(\"Frequency\")"
   ]
  },
  {
   "cell_type": "code",
   "execution_count": 479,
   "metadata": {
    "collapsed": false
   },
   "outputs": [
    {
     "data": {
      "text/plain": [
       "count    1830.000000\n",
       "mean        0.252538\n",
       "std         0.006715\n",
       "min         0.242000\n",
       "25%         0.247000\n",
       "50%         0.251000\n",
       "75%         0.257000\n",
       "max         0.278000\n",
       "Name: Data0, dtype: float64"
      ]
     },
     "execution_count": 479,
     "metadata": {},
     "output_type": "execute_result"
    }
   ],
   "source": [
    "df[(df.Test == 'VOL') & (df.Data1 == '10mA')].Data0.describe()"
   ]
  },
  {
   "cell_type": "code",
   "execution_count": 482,
   "metadata": {
    "collapsed": false
   },
   "outputs": [
    {
     "data": {
      "text/plain": [
       "count    1830.000000\n",
       "mean        0.026378\n",
       "std         0.001650\n",
       "min         0.022000\n",
       "25%         0.026000\n",
       "50%         0.027000\n",
       "75%         0.027000\n",
       "max         0.030000\n",
       "Name: Data0, dtype: float64"
      ]
     },
     "execution_count": 482,
     "metadata": {},
     "output_type": "execute_result"
    }
   ],
   "source": [
    "df[(df.Test == 'VOL') & (df.Data1 == '1mA')].Data0.describe()"
   ]
  },
  {
   "cell_type": "code",
   "execution_count": 480,
   "metadata": {
    "collapsed": false
   },
   "outputs": [
    {
     "data": {
      "text/plain": [
       "count    1830.000000\n",
       "mean        3.001946\n",
       "std         0.292007\n",
       "min         2.523000\n",
       "25%         2.752000\n",
       "50%         2.998500\n",
       "75%         3.259750\n",
       "max         3.466000\n",
       "Name: Data0, dtype: float64"
      ]
     },
     "execution_count": 480,
     "metadata": {},
     "output_type": "execute_result"
    }
   ],
   "source": [
    "df[(df.Test == 'VOH') & (df.Data1 == '10mA')].Data0.describe()"
   ]
  },
  {
   "cell_type": "code",
   "execution_count": 481,
   "metadata": {
    "collapsed": false
   },
   "outputs": [
    {
     "data": {
      "text/plain": [
       "count    1830.000000\n",
       "mean        3.221962\n",
       "std         0.287773\n",
       "min         2.765000\n",
       "25%         2.972000\n",
       "50%         3.220500\n",
       "75%         3.474000\n",
       "max         3.675000\n",
       "Name: Data0, dtype: float64"
      ]
     },
     "execution_count": 481,
     "metadata": {},
     "output_type": "execute_result"
    }
   ],
   "source": [
    "df[(df.Test == 'VOH') & (df.Data1 == '1mA')].Data0.describe()"
   ]
  },
  {
   "cell_type": "code",
   "execution_count": 484,
   "metadata": {
    "collapsed": false
   },
   "outputs": [
    {
     "data": {
      "text/plain": [
       "count    1830.000000\n",
       "mean        1.906585\n",
       "std         0.152639\n",
       "min         1.650000\n",
       "25%         1.800000\n",
       "50%         1.900000\n",
       "75%         2.050000\n",
       "max         2.200000\n",
       "Name: Data0, dtype: float64"
      ]
     },
     "execution_count": 484,
     "metadata": {},
     "output_type": "execute_result"
    }
   ],
   "source": [
    "df[(df.Test == 'VIH')].Data0.describe()"
   ]
  },
  {
   "cell_type": "code",
   "execution_count": 485,
   "metadata": {
    "collapsed": false
   },
   "outputs": [
    {
     "data": {
      "text/plain": [
       "count    1830.000000\n",
       "mean        1.639399\n",
       "std         0.151797\n",
       "min         1.350000\n",
       "25%         1.500000\n",
       "50%         1.650000\n",
       "75%         1.750000\n",
       "max         1.900000\n",
       "Name: Data0, dtype: float64"
      ]
     },
     "execution_count": 485,
     "metadata": {},
     "output_type": "execute_result"
    }
   ],
   "source": [
    "df[(df.Test == 'VIL')].Data0.describe()"
   ]
  },
  {
   "cell_type": "code",
   "execution_count": 471,
   "metadata": {
    "collapsed": false
   },
   "outputs": [],
   "source": [
    "df.loc[df.Test == 'Delay', 'Dly'] = df[df.Test == 'Delay'].apply(lambda x: (x['Data0'] * 1000 - int(x['Data1'])) / int(x['Data1']) * 100, axis=1)"
   ]
  },
  {
   "cell_type": "code",
   "execution_count": 472,
   "metadata": {
    "collapsed": true
   },
   "outputs": [],
   "source": [
    "df_dly = df[df.Test == 'Delay']"
   ]
  },
  {
   "cell_type": "code",
   "execution_count": 473,
   "metadata": {
    "collapsed": false
   },
   "outputs": [
    {
     "data": {
      "text/plain": [
       "count    73200.000000\n",
       "mean         0.904542\n",
       "std          1.327834\n",
       "min         -3.000000\n",
       "25%          0.000000\n",
       "50%          1.000000\n",
       "75%          2.000000\n",
       "max          4.500000\n",
       "Name: Dly, dtype: float64"
      ]
     },
     "execution_count": 473,
     "metadata": {},
     "output_type": "execute_result"
    }
   ],
   "source": [
    "df_dly[df_dly['Data1'] < 8000]['Dly'].describe()"
   ]
  },
  {
   "cell_type": "code",
   "execution_count": 474,
   "metadata": {
    "collapsed": false
   },
   "outputs": [
    {
     "data": {
      "text/plain": [
       "<matplotlib.text.Text at 0x288deec09e8>"
      ]
     },
     "execution_count": 474,
     "metadata": {},
     "output_type": "execute_result"
    },
    {
     "data": {
      "image/png": "[encoded data removed]",
      "text/plain": [
       "<matplotlib.figure.Figure at 0x288deeca3c8>"
      ]
     },
     "metadata": {},
     "output_type": "display_data"
    }
   ],
   "source": [
    "plt_range1 = df_dly[df_dly['Data1'] < 8000]['Dly'].plot(kind='hist', alpha=0.5, title='Delay 2-8(us) MaxSpec: 5%')\n",
    "plt_range1.set_xlabel(\"Delay Percent\")\n",
    "plt_range1.set_ylabel(\"Frequency\")"
   ]
  },
  {
   "cell_type": "code",
   "execution_count": 475,
   "metadata": {
    "collapsed": false
   },
   "outputs": [
    {
     "data": {
      "text/plain": [
       "count    111630.000000\n",
       "mean          0.496099\n",
       "std           0.734960\n",
       "min          -2.000000\n",
       "25%           0.000000\n",
       "50%           0.595745\n",
       "75%           1.000000\n",
       "max           2.604651\n",
       "Name: Dly, dtype: float64"
      ]
     },
     "execution_count": 475,
     "metadata": {},
     "output_type": "execute_result"
    }
   ],
   "source": [
    "df_dly[df_dly['Data1'] >= 8000].Dly.describe()"
   ]
  },
  {
   "cell_type": "code",
   "execution_count": 476,
   "metadata": {
    "collapsed": false
   },
   "outputs": [
    {
     "data": {
      "text/plain": [
       "<matplotlib.text.Text at 0x288d7558240>"
      ]
     },
     "execution_count": 476,
     "metadata": {},
     "output_type": "execute_result"
    },
    {
     "data": {
      "image/png": "[encoded data removed]",
      "text/plain": [
       "<matplotlib.figure.Figure at 0x288deec3cc0>"
      ]
     },
     "metadata": {},
     "output_type": "display_data"
    }
   ],
   "source": [
    "plt_range2 = df_dly[df_dly['Data1'] >= 8000]['Dly'].plot(kind='hist', alpha=0.5, title='Delay 8-20(us) MaxSpec: 3%')\n",
    "plt_range2.set_xlabel(\"Delay Percent\")\n",
    "plt_range2.set_ylabel(\"Frequency\")"
   ]
  },
  {
   "cell_type": "code",
   "execution_count": 477,
   "metadata": {
    "collapsed": false,
    "scrolled": true
   },
   "outputs": [
    {
     "data": {
      "text/html": [
       "<div>\n",
       "<table border=\"1\" class=\"dataframe\">\n",
       "  <thead>\n",
       "    <tr style=\"text-align: right;\">\n",
       "      <th></th>\n",
       "      <th>Lot</th>\n",
       "      <th>Temp</th>\n",
       "      <th>Dev#</th>\n",
       "      <th>VDD</th>\n",
       "      <th>Test</th>\n",
       "      <th>Data0</th>\n",
       "      <th>Data1</th>\n",
       "      <th>Dly</th>\n",
       "    </tr>\n",
       "  </thead>\n",
       "  <tbody>\n",
       "    <tr>\n",
       "      <th>17878</th>\n",
       "      <td>RC01927M</td>\n",
       "      <td>105C</td>\n",
       "      <td>18</td>\n",
       "      <td>2.9</td>\n",
       "      <td>Delay</td>\n",
       "      <td>8.720</td>\n",
       "      <td>8600</td>\n",
       "      <td>1.395349</td>\n",
       "    </tr>\n",
       "    <tr>\n",
       "      <th>17878</th>\n",
       "      <td>RC01928M</td>\n",
       "      <td>25C</td>\n",
       "      <td>19</td>\n",
       "      <td>2.9</td>\n",
       "      <td>Delay</td>\n",
       "      <td>8.755</td>\n",
       "      <td>8600</td>\n",
       "      <td>1.802326</td>\n",
       "    </tr>\n",
       "    <tr>\n",
       "      <th>17878</th>\n",
       "      <td>RC01928M</td>\n",
       "      <td>105C</td>\n",
       "      <td>17</td>\n",
       "      <td>2.9</td>\n",
       "      <td>Delay</td>\n",
       "      <td>8.789</td>\n",
       "      <td>8600</td>\n",
       "      <td>2.197674</td>\n",
       "    </tr>\n",
       "    <tr>\n",
       "      <th>17878</th>\n",
       "      <td>RC01928M</td>\n",
       "      <td>-5C</td>\n",
       "      <td>17</td>\n",
       "      <td>2.9</td>\n",
       "      <td>Delay</td>\n",
       "      <td>8.755</td>\n",
       "      <td>8600</td>\n",
       "      <td>1.802326</td>\n",
       "    </tr>\n",
       "    <tr>\n",
       "      <th>17878</th>\n",
       "      <td>RC01929M</td>\n",
       "      <td>25C</td>\n",
       "      <td>17</td>\n",
       "      <td>2.9</td>\n",
       "      <td>Delay</td>\n",
       "      <td>8.755</td>\n",
       "      <td>8600</td>\n",
       "      <td>1.802326</td>\n",
       "    </tr>\n",
       "    <tr>\n",
       "      <th>17878</th>\n",
       "      <td>RC01929M</td>\n",
       "      <td>105C</td>\n",
       "      <td>17</td>\n",
       "      <td>2.9</td>\n",
       "      <td>Delay</td>\n",
       "      <td>8.824</td>\n",
       "      <td>8600</td>\n",
       "      <td>2.604651</td>\n",
       "    </tr>\n",
       "    <tr>\n",
       "      <th>17878</th>\n",
       "      <td>RC01929M</td>\n",
       "      <td>-5C</td>\n",
       "      <td>17</td>\n",
       "      <td>2.9</td>\n",
       "      <td>Delay</td>\n",
       "      <td>8.755</td>\n",
       "      <td>8600</td>\n",
       "      <td>1.802326</td>\n",
       "    </tr>\n",
       "  </tbody>\n",
       "</table>\n",
       "</div>"
      ],
      "text/plain": [
       "            Lot  Temp  Dev#  VDD   Test  Data0 Data1       Dly\n",
       "17878  RC01927M  105C    18  2.9  Delay  8.720  8600  1.395349\n",
       "17878  RC01928M   25C    19  2.9  Delay  8.755  8600  1.802326\n",
       "17878  RC01928M  105C    17  2.9  Delay  8.789  8600  2.197674\n",
       "17878  RC01928M   -5C    17  2.9  Delay  8.755  8600  1.802326\n",
       "17878  RC01929M   25C    17  2.9  Delay  8.755  8600  1.802326\n",
       "17878  RC01929M  105C    17  2.9  Delay  8.824  8600  2.604651\n",
       "17878  RC01929M   -5C    17  2.9  Delay  8.755  8600  1.802326"
      ]
     },
     "execution_count": 477,
     "metadata": {},
     "output_type": "execute_result"
    }
   ],
   "source": [
    "df_dly[df_dly.index == [df_dly[(df_dly.Data1 >= 8000)].Dly.argmax()]]"
   ]
  },
  {
   "cell_type": "code",
   "execution_count": 478,
   "metadata": {
    "collapsed": false
   },
   "outputs": [
    {
     "data": {
      "text/html": [
       "<div>\n",
       "<table border=\"1\" class=\"dataframe\">\n",
       "  <thead>\n",
       "    <tr style=\"text-align: right;\">\n",
       "      <th></th>\n",
       "      <th>Lot</th>\n",
       "      <th>Temp</th>\n",
       "      <th>Dev#</th>\n",
       "      <th>VDD</th>\n",
       "      <th>Test</th>\n",
       "      <th>Data0</th>\n",
       "      <th>Data1</th>\n",
       "      <th>Dly</th>\n",
       "    </tr>\n",
       "  </thead>\n",
       "  <tbody>\n",
       "    <tr>\n",
       "      <th>18539</th>\n",
       "      <td>RC01927M</td>\n",
       "      <td>25C</td>\n",
       "      <td>18</td>\n",
       "      <td>2.8</td>\n",
       "      <td>Delay</td>\n",
       "      <td>2.03</td>\n",
       "      <td>2000</td>\n",
       "      <td>1.5</td>\n",
       "    </tr>\n",
       "    <tr>\n",
       "      <th>18539</th>\n",
       "      <td>RC01927M</td>\n",
       "      <td>105C</td>\n",
       "      <td>19</td>\n",
       "      <td>2.8</td>\n",
       "      <td>Delay</td>\n",
       "      <td>2.06</td>\n",
       "      <td>2000</td>\n",
       "      <td>3.0</td>\n",
       "    </tr>\n",
       "    <tr>\n",
       "      <th>18539</th>\n",
       "      <td>RC01927M</td>\n",
       "      <td>-5C</td>\n",
       "      <td>20</td>\n",
       "      <td>2.8</td>\n",
       "      <td>Delay</td>\n",
       "      <td>2.02</td>\n",
       "      <td>2000</td>\n",
       "      <td>1.0</td>\n",
       "    </tr>\n",
       "    <tr>\n",
       "      <th>18539</th>\n",
       "      <td>RC01928M</td>\n",
       "      <td>105C</td>\n",
       "      <td>19</td>\n",
       "      <td>2.8</td>\n",
       "      <td>Delay</td>\n",
       "      <td>2.09</td>\n",
       "      <td>2000</td>\n",
       "      <td>4.5</td>\n",
       "    </tr>\n",
       "    <tr>\n",
       "      <th>18539</th>\n",
       "      <td>RC01928M</td>\n",
       "      <td>-5C</td>\n",
       "      <td>18</td>\n",
       "      <td>2.8</td>\n",
       "      <td>Delay</td>\n",
       "      <td>2.09</td>\n",
       "      <td>2000</td>\n",
       "      <td>4.5</td>\n",
       "    </tr>\n",
       "    <tr>\n",
       "      <th>18539</th>\n",
       "      <td>RC01929M</td>\n",
       "      <td>25C</td>\n",
       "      <td>18</td>\n",
       "      <td>2.8</td>\n",
       "      <td>Delay</td>\n",
       "      <td>2.00</td>\n",
       "      <td>2000</td>\n",
       "      <td>0.0</td>\n",
       "    </tr>\n",
       "    <tr>\n",
       "      <th>18539</th>\n",
       "      <td>RC01929M</td>\n",
       "      <td>105C</td>\n",
       "      <td>18</td>\n",
       "      <td>2.8</td>\n",
       "      <td>Delay</td>\n",
       "      <td>2.02</td>\n",
       "      <td>2000</td>\n",
       "      <td>1.0</td>\n",
       "    </tr>\n",
       "    <tr>\n",
       "      <th>18539</th>\n",
       "      <td>RC01929M</td>\n",
       "      <td>-5C</td>\n",
       "      <td>18</td>\n",
       "      <td>2.8</td>\n",
       "      <td>Delay</td>\n",
       "      <td>2.01</td>\n",
       "      <td>2000</td>\n",
       "      <td>0.5</td>\n",
       "    </tr>\n",
       "  </tbody>\n",
       "</table>\n",
       "</div>"
      ],
      "text/plain": [
       "            Lot  Temp  Dev#  VDD   Test  Data0 Data1  Dly\n",
       "18539  RC01927M   25C    18  2.8  Delay   2.03  2000  1.5\n",
       "18539  RC01927M  105C    19  2.8  Delay   2.06  2000  3.0\n",
       "18539  RC01927M   -5C    20  2.8  Delay   2.02  2000  1.0\n",
       "18539  RC01928M  105C    19  2.8  Delay   2.09  2000  4.5\n",
       "18539  RC01928M   -5C    18  2.8  Delay   2.09  2000  4.5\n",
       "18539  RC01929M   25C    18  2.8  Delay   2.00  2000  0.0\n",
       "18539  RC01929M  105C    18  2.8  Delay   2.02  2000  1.0\n",
       "18539  RC01929M   -5C    18  2.8  Delay   2.01  2000  0.5"
      ]
     },
     "execution_count": 478,
     "metadata": {},
     "output_type": "execute_result"
    }
   ],
   "source": [
    "df_dly[df_dly.index == [df_dly[(df_dly.Data1 < 8000)].Dly.argmax()]]"
   ]
  },
  {
   "cell_type": "code",
   "execution_count": null,
   "metadata": {
    "collapsed": true
   },
   "outputs": [],
   "source": []
  },
  {
   "cell_type": "code",
   "execution_count": null,
   "metadata": {
    "collapsed": true
   },
   "outputs": [],
   "source": []
  }
 ],
 "metadata": {
  "kernelspec": {
   "display_name": "Python 3",
   "language": "python",
   "name": "python3"
  },
  "language_info": {
   "codemirror_mode": {
    "name": "ipython",
    "version": 3
   },
   "file_extension": ".py",
   "mimetype": "text/x-python",
   "name": "python",
   "nbconvert_exporter": "python",
   "pygments_lexer": "ipython3",
   "version": "3.5.1"
  }
 },
 "nbformat": 4,
 "nbformat_minor": 0
}
